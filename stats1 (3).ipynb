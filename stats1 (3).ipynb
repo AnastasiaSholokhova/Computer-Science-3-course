{
 "cells": [
  {
   "cell_type": "code",
   "execution_count": 1,
   "id": "fefade38",
   "metadata": {},
   "outputs": [
    {
     "data": {
      "text/html": [
       "<div>\n",
       "<style scoped>\n",
       "    .dataframe tbody tr th:only-of-type {\n",
       "        vertical-align: middle;\n",
       "    }\n",
       "\n",
       "    .dataframe tbody tr th {\n",
       "        vertical-align: top;\n",
       "    }\n",
       "\n",
       "    .dataframe thead th {\n",
       "        text-align: right;\n",
       "    }\n",
       "</style>\n",
       "<table border=\"1\" class=\"dataframe\">\n",
       "  <thead>\n",
       "    <tr style=\"text-align: right;\">\n",
       "      <th></th>\n",
       "      <th>Age</th>\n",
       "    </tr>\n",
       "  </thead>\n",
       "  <tbody>\n",
       "    <tr>\n",
       "      <th>0</th>\n",
       "      <td>23</td>\n",
       "    </tr>\n",
       "    <tr>\n",
       "      <th>1</th>\n",
       "      <td>32</td>\n",
       "    </tr>\n",
       "    <tr>\n",
       "      <th>2</th>\n",
       "      <td>27</td>\n",
       "    </tr>\n",
       "    <tr>\n",
       "      <th>3</th>\n",
       "      <td>26</td>\n",
       "    </tr>\n",
       "    <tr>\n",
       "      <th>4</th>\n",
       "      <td>44</td>\n",
       "    </tr>\n",
       "    <tr>\n",
       "      <th>...</th>\n",
       "      <td>...</td>\n",
       "    </tr>\n",
       "    <tr>\n",
       "      <th>32418</th>\n",
       "      <td>48</td>\n",
       "    </tr>\n",
       "    <tr>\n",
       "      <th>32419</th>\n",
       "      <td>47</td>\n",
       "    </tr>\n",
       "    <tr>\n",
       "      <th>32420</th>\n",
       "      <td>27</td>\n",
       "    </tr>\n",
       "    <tr>\n",
       "      <th>32421</th>\n",
       "      <td>54</td>\n",
       "    </tr>\n",
       "    <tr>\n",
       "      <th>32422</th>\n",
       "      <td>45</td>\n",
       "    </tr>\n",
       "  </tbody>\n",
       "</table>\n",
       "<p>32423 rows × 1 columns</p>\n",
       "</div>"
      ],
      "text/plain": [
       "      Age\n",
       "0      23\n",
       "1      32\n",
       "2      27\n",
       "3      26\n",
       "4      44\n",
       "...    ..\n",
       "32418  48\n",
       "32419  47\n",
       "32420  27\n",
       "32421  54\n",
       "32422  45\n",
       "\n",
       "[32423 rows x 1 columns]"
      ]
     },
     "execution_count": 1,
     "metadata": {},
     "output_type": "execute_result"
    }
   ],
   "source": [
    "import pandas as pd\n",
    "import numpy as np\n",
    "data = pd.read_csv('Москва_2021.txt')\n",
    "data.loc[-1] = data.columns.values\n",
    "data.sort_index(inplace=True)\n",
    "data.reset_index(drop=True, inplace=True)\n",
    "data.columns = ['Age']\n",
    "data = pd.DataFrame(data)\n",
    "data"
   ]
  },
  {
   "cell_type": "code",
   "execution_count": 2,
   "id": "480572d7",
   "metadata": {},
   "outputs": [
    {
     "data": {
      "text/plain": [
       "34.0"
      ]
     },
     "execution_count": 2,
     "metadata": {},
     "output_type": "execute_result"
    }
   ],
   "source": [
    "#Выборочная средняя\n",
    "data.Age.median()"
   ]
  },
  {
   "cell_type": "code",
   "execution_count": 5,
   "id": "392a5c6e",
   "metadata": {},
   "outputs": [
    {
     "data": {
      "text/plain": [
       "12.038332018006214"
      ]
     },
     "execution_count": 5,
     "metadata": {},
     "output_type": "execute_result"
    }
   ],
   "source": [
    "#Среднее квадратичное отклонение\n",
    "data['Age'] = pd.to_numeric(data['Age'])\n",
    "data.Age.std()"
   ]
  },
  {
   "cell_type": "code",
   "execution_count": 6,
   "id": "818f5c2f",
   "metadata": {},
   "outputs": [
    {
     "name": "stdout",
     "output_type": "stream",
     "text": [
      "34.0 [29]\n"
     ]
    },
    {
     "name": "stderr",
     "output_type": "stream",
     "text": [
      "C:\\Users\\sholo\\AppData\\Local\\Temp\\ipykernel_11204\\3038077478.py:3: FutureWarning: Unlike other reduction functions (e.g. `skew`, `kurtosis`), the default behavior of `mode` typically preserves the axis it acts along. In SciPy 1.11.0, this behavior will change: the default value of `keepdims` will become False, the `axis` over which the statistic is taken will be eliminated, and the value None will no longer be accepted. Set `keepdims` to True or False to avoid this warning.\n",
      "  mode = stats.mode(data['Age'])\n"
     ]
    }
   ],
   "source": [
    "#Медиана, мода\n",
    "from scipy import stats\n",
    "mode = stats.mode(data['Age'])\n",
    "print(data.Age.median(), mode.mode)"
   ]
  },
  {
   "cell_type": "code",
   "execution_count": 7,
   "id": "d147090f",
   "metadata": {},
   "outputs": [
    {
     "data": {
      "text/plain": [
       "144.91696806481454"
      ]
     },
     "execution_count": 7,
     "metadata": {},
     "output_type": "execute_result"
    }
   ],
   "source": [
    "#Дисперсия\n",
    "np.var(data['Age'])"
   ]
  },
  {
   "cell_type": "code",
   "execution_count": 16,
   "id": "4865a2e4",
   "metadata": {},
   "outputs": [
    {
     "data": {
      "text/plain": [
       "34.0320132642364"
      ]
     },
     "execution_count": 16,
     "metadata": {},
     "output_type": "execute_result"
    }
   ],
   "source": [
    "#Коэффициент вариации - дискретный ряд\n",
    "variance = (np.std(data.Age) / np.mean(data.Age)) *100\n",
    "variance"
   ]
  },
  {
   "cell_type": "code",
   "execution_count": 9,
   "id": "0538b2f6",
   "metadata": {},
   "outputs": [
    {
     "data": {
      "text/plain": [
       "29    1340\n",
       "27    1263\n",
       "36    1198\n",
       "31    1115\n",
       "28    1113\n",
       "23    1070\n",
       "49    1060\n",
       "25    1050\n",
       "44    1032\n",
       "48    1026\n",
       "38    1006\n",
       "26     980\n",
       "42     978\n",
       "19     971\n",
       "22     944\n",
       "20     910\n",
       "34     869\n",
       "41     837\n",
       "47     831\n",
       "43     820\n",
       "24     810\n",
       "18     806\n",
       "32     796\n",
       "33     758\n",
       "30     734\n",
       "40     723\n",
       "21     716\n",
       "39     695\n",
       "45     690\n",
       "46     677\n",
       "35     676\n",
       "37     522\n",
       "60     266\n",
       "58     262\n",
       "16     236\n",
       "61     226\n",
       "69     202\n",
       "52     193\n",
       "64     189\n",
       "66     188\n",
       "51     188\n",
       "63     183\n",
       "50     150\n",
       "62     139\n",
       "57     136\n",
       "67     128\n",
       "17     126\n",
       "71      85\n",
       "65      79\n",
       "56      76\n",
       "59      74\n",
       "55      62\n",
       "15      53\n",
       "14      49\n",
       "53      47\n",
       "70      26\n",
       "54      26\n",
       "73      17\n",
       "23       1\n",
       "Name: Age, dtype: int64"
      ]
     },
     "execution_count": 9,
     "metadata": {},
     "output_type": "execute_result"
    }
   ],
   "source": [
    "age_count = data['Age'].value_counts()\n",
    "age_count"
   ]
  },
  {
   "cell_type": "code",
   "execution_count": 10,
   "id": "d64e0a2c",
   "metadata": {},
   "outputs": [],
   "source": [
    "def rel_freq (x):\n",
    "    freqs = [(value, x.count(value) / len(x)) for value in set(x)] \n",
    "    return freqs"
   ]
  },
  {
   "cell_type": "code",
   "execution_count": 11,
   "id": "7ddb0a0a",
   "metadata": {},
   "outputs": [
    {
     "data": {
      "text/plain": [
       "[(14, 0.0015112728618573235),\n",
       " (15, 0.0016346420750701662),\n",
       " (16, 0.007278783579557722),\n",
       " (17, 0.0038861302162045462),\n",
       " (18, 0.02485889646238781),\n",
       " (19, 0.029947876507417575),\n",
       " (20, 0.02806649600592172),\n",
       " (21, 0.022083089165098848),\n",
       " (22, 0.029115134318230887),\n",
       " (23, 0.03300126453443543),\n",
       " (24, 0.024982265675600655),\n",
       " (25, 0.032384418468371215),\n",
       " (26, 0.03022545723714647),\n",
       " (27, 0.0389538290719551),\n",
       " (28, 0.03432748357647349),\n",
       " (29, 0.041328686426302316),\n",
       " ('23', 3.0842303303210686e-05),\n",
       " (31, 0.03438916818307991),\n",
       " (32, 0.024550473429355704),\n",
       " (30, 0.02263825062455664),\n",
       " (34, 0.026801961570490085),\n",
       " (35, 0.020849397032970424),\n",
       " (36, 0.0369490793572464),\n",
       " (37, 0.016099682324275978),\n",
       " (38, 0.03102735712302995),\n",
       " (33, 0.0233784659038337),\n",
       " (40, 0.022298985288221326),\n",
       " (41, 0.025815007864787343),\n",
       " (42, 0.03016377263054005),\n",
       " (43, 0.025290688708632762),\n",
       " (44, 0.031829257008913425),\n",
       " (45, 0.021281189279215372),\n",
       " (46, 0.020880239336273632),\n",
       " (47, 0.025629954044968078),\n",
       " (48, 0.03164420318909416),\n",
       " (49, 0.03269284150140332),\n",
       " (50, 0.004626345495481602),\n",
       " (51, 0.005798353021003609),\n",
       " (52, 0.005952564537519662),\n",
       " (53, 0.0014495882552509021),\n",
       " (54, 0.0008018998858834778),\n",
       " (55, 0.0019122228047990623),\n",
       " (56, 0.002344015051044012),\n",
       " (57, 0.004194553249236653),\n",
       " (58, 0.0080806834654412),\n",
       " (59, 0.0022823304444375904),\n",
       " (60, 0.008204052678654043),\n",
       " (61, 0.006970360546525615),\n",
       " (62, 0.004287080159146285),\n",
       " (63, 0.005644141504487555),\n",
       " (64, 0.005829195324306819),\n",
       " (65, 0.002436541960953644),\n",
       " (66, 0.005798353021003609),\n",
       " (67, 0.003947814822810968),\n",
       " (69, 0.006230145267248558),\n",
       " (39, 0.021435400795731425),\n",
       " (71, 0.002621595780772908),\n",
       " (70, 0.0008018998858834778),\n",
       " (73, 0.0005243191561545816)]"
      ]
     },
     "execution_count": 11,
     "metadata": {},
     "output_type": "execute_result"
    }
   ],
   "source": [
    "#Относительные частоты\n",
    "frequencies = rel_freq(list(data['Age']))\n",
    "frequencies"
   ]
  },
  {
   "cell_type": "code",
   "execution_count": 23,
   "id": "5f34d2e4",
   "metadata": {},
   "outputs": [
    {
     "data": {
      "text/plain": [
       "29    0.041329\n",
       "27    0.038954\n",
       "36    0.036949\n",
       "31    0.034389\n",
       "28    0.034327\n",
       "23    0.033032\n",
       "49    0.032693\n",
       "25    0.032384\n",
       "44    0.031829\n",
       "48    0.031644\n",
       "38    0.031027\n",
       "26    0.030225\n",
       "42    0.030164\n",
       "19    0.029948\n",
       "22    0.029115\n",
       "20    0.028066\n",
       "34    0.026802\n",
       "41    0.025815\n",
       "47    0.025630\n",
       "43    0.025291\n",
       "24    0.024982\n",
       "18    0.024859\n",
       "32    0.024550\n",
       "33    0.023378\n",
       "30    0.022638\n",
       "40    0.022299\n",
       "21    0.022083\n",
       "39    0.021435\n",
       "45    0.021281\n",
       "46    0.020880\n",
       "35    0.020849\n",
       "37    0.016100\n",
       "60    0.008204\n",
       "58    0.008081\n",
       "16    0.007279\n",
       "61    0.006970\n",
       "69    0.006230\n",
       "52    0.005953\n",
       "64    0.005829\n",
       "66    0.005798\n",
       "51    0.005798\n",
       "63    0.005644\n",
       "50    0.004626\n",
       "62    0.004287\n",
       "57    0.004195\n",
       "67    0.003948\n",
       "17    0.003886\n",
       "71    0.002622\n",
       "65    0.002437\n",
       "56    0.002344\n",
       "59    0.002282\n",
       "55    0.001912\n",
       "15    0.001635\n",
       "14    0.001511\n",
       "53    0.001450\n",
       "70    0.000802\n",
       "54    0.000802\n",
       "73    0.000524\n",
       "Name: Age, dtype: float64"
      ]
     },
     "execution_count": 23,
     "metadata": {},
     "output_type": "execute_result"
    }
   ],
   "source": [
    "data['Age'] = pd.to_numeric(data['Age'])\n",
    "unique = data['Age'].value_counts()\n",
    "freqs = unique / len(data['Age'])\n",
    "freqs"
   ]
  },
  {
   "cell_type": "code",
   "execution_count": 24,
   "id": "08cf7830",
   "metadata": {},
   "outputs": [
    {
     "data": {
      "text/html": [
       "<div>\n",
       "<style scoped>\n",
       "    .dataframe tbody tr th:only-of-type {\n",
       "        vertical-align: middle;\n",
       "    }\n",
       "\n",
       "    .dataframe tbody tr th {\n",
       "        vertical-align: top;\n",
       "    }\n",
       "\n",
       "    .dataframe thead th {\n",
       "        text-align: right;\n",
       "    }\n",
       "</style>\n",
       "<table border=\"1\" class=\"dataframe\">\n",
       "  <thead>\n",
       "    <tr style=\"text-align: right;\">\n",
       "      <th></th>\n",
       "      <th>Age</th>\n",
       "    </tr>\n",
       "  </thead>\n",
       "  <tbody>\n",
       "    <tr>\n",
       "      <th>29</th>\n",
       "      <td>0.041329</td>\n",
       "    </tr>\n",
       "    <tr>\n",
       "      <th>27</th>\n",
       "      <td>0.038954</td>\n",
       "    </tr>\n",
       "    <tr>\n",
       "      <th>36</th>\n",
       "      <td>0.036949</td>\n",
       "    </tr>\n",
       "    <tr>\n",
       "      <th>31</th>\n",
       "      <td>0.034389</td>\n",
       "    </tr>\n",
       "    <tr>\n",
       "      <th>28</th>\n",
       "      <td>0.034327</td>\n",
       "    </tr>\n",
       "    <tr>\n",
       "      <th>23</th>\n",
       "      <td>0.033032</td>\n",
       "    </tr>\n",
       "    <tr>\n",
       "      <th>49</th>\n",
       "      <td>0.032693</td>\n",
       "    </tr>\n",
       "    <tr>\n",
       "      <th>25</th>\n",
       "      <td>0.032384</td>\n",
       "    </tr>\n",
       "    <tr>\n",
       "      <th>44</th>\n",
       "      <td>0.031829</td>\n",
       "    </tr>\n",
       "    <tr>\n",
       "      <th>48</th>\n",
       "      <td>0.031644</td>\n",
       "    </tr>\n",
       "    <tr>\n",
       "      <th>38</th>\n",
       "      <td>0.031027</td>\n",
       "    </tr>\n",
       "    <tr>\n",
       "      <th>26</th>\n",
       "      <td>0.030225</td>\n",
       "    </tr>\n",
       "    <tr>\n",
       "      <th>42</th>\n",
       "      <td>0.030164</td>\n",
       "    </tr>\n",
       "    <tr>\n",
       "      <th>19</th>\n",
       "      <td>0.029948</td>\n",
       "    </tr>\n",
       "    <tr>\n",
       "      <th>22</th>\n",
       "      <td>0.029115</td>\n",
       "    </tr>\n",
       "    <tr>\n",
       "      <th>20</th>\n",
       "      <td>0.028066</td>\n",
       "    </tr>\n",
       "    <tr>\n",
       "      <th>34</th>\n",
       "      <td>0.026802</td>\n",
       "    </tr>\n",
       "    <tr>\n",
       "      <th>41</th>\n",
       "      <td>0.025815</td>\n",
       "    </tr>\n",
       "    <tr>\n",
       "      <th>47</th>\n",
       "      <td>0.025630</td>\n",
       "    </tr>\n",
       "    <tr>\n",
       "      <th>43</th>\n",
       "      <td>0.025291</td>\n",
       "    </tr>\n",
       "    <tr>\n",
       "      <th>24</th>\n",
       "      <td>0.024982</td>\n",
       "    </tr>\n",
       "    <tr>\n",
       "      <th>18</th>\n",
       "      <td>0.024859</td>\n",
       "    </tr>\n",
       "    <tr>\n",
       "      <th>32</th>\n",
       "      <td>0.024550</td>\n",
       "    </tr>\n",
       "    <tr>\n",
       "      <th>33</th>\n",
       "      <td>0.023378</td>\n",
       "    </tr>\n",
       "    <tr>\n",
       "      <th>30</th>\n",
       "      <td>0.022638</td>\n",
       "    </tr>\n",
       "    <tr>\n",
       "      <th>40</th>\n",
       "      <td>0.022299</td>\n",
       "    </tr>\n",
       "    <tr>\n",
       "      <th>21</th>\n",
       "      <td>0.022083</td>\n",
       "    </tr>\n",
       "    <tr>\n",
       "      <th>39</th>\n",
       "      <td>0.021435</td>\n",
       "    </tr>\n",
       "    <tr>\n",
       "      <th>45</th>\n",
       "      <td>0.021281</td>\n",
       "    </tr>\n",
       "    <tr>\n",
       "      <th>46</th>\n",
       "      <td>0.020880</td>\n",
       "    </tr>\n",
       "    <tr>\n",
       "      <th>35</th>\n",
       "      <td>0.020849</td>\n",
       "    </tr>\n",
       "    <tr>\n",
       "      <th>37</th>\n",
       "      <td>0.016100</td>\n",
       "    </tr>\n",
       "    <tr>\n",
       "      <th>60</th>\n",
       "      <td>0.008204</td>\n",
       "    </tr>\n",
       "    <tr>\n",
       "      <th>58</th>\n",
       "      <td>0.008081</td>\n",
       "    </tr>\n",
       "    <tr>\n",
       "      <th>16</th>\n",
       "      <td>0.007279</td>\n",
       "    </tr>\n",
       "    <tr>\n",
       "      <th>61</th>\n",
       "      <td>0.006970</td>\n",
       "    </tr>\n",
       "    <tr>\n",
       "      <th>69</th>\n",
       "      <td>0.006230</td>\n",
       "    </tr>\n",
       "    <tr>\n",
       "      <th>52</th>\n",
       "      <td>0.005953</td>\n",
       "    </tr>\n",
       "    <tr>\n",
       "      <th>64</th>\n",
       "      <td>0.005829</td>\n",
       "    </tr>\n",
       "    <tr>\n",
       "      <th>66</th>\n",
       "      <td>0.005798</td>\n",
       "    </tr>\n",
       "    <tr>\n",
       "      <th>51</th>\n",
       "      <td>0.005798</td>\n",
       "    </tr>\n",
       "    <tr>\n",
       "      <th>63</th>\n",
       "      <td>0.005644</td>\n",
       "    </tr>\n",
       "    <tr>\n",
       "      <th>50</th>\n",
       "      <td>0.004626</td>\n",
       "    </tr>\n",
       "    <tr>\n",
       "      <th>62</th>\n",
       "      <td>0.004287</td>\n",
       "    </tr>\n",
       "    <tr>\n",
       "      <th>57</th>\n",
       "      <td>0.004195</td>\n",
       "    </tr>\n",
       "    <tr>\n",
       "      <th>67</th>\n",
       "      <td>0.003948</td>\n",
       "    </tr>\n",
       "    <tr>\n",
       "      <th>17</th>\n",
       "      <td>0.003886</td>\n",
       "    </tr>\n",
       "    <tr>\n",
       "      <th>71</th>\n",
       "      <td>0.002622</td>\n",
       "    </tr>\n",
       "    <tr>\n",
       "      <th>65</th>\n",
       "      <td>0.002437</td>\n",
       "    </tr>\n",
       "    <tr>\n",
       "      <th>56</th>\n",
       "      <td>0.002344</td>\n",
       "    </tr>\n",
       "    <tr>\n",
       "      <th>59</th>\n",
       "      <td>0.002282</td>\n",
       "    </tr>\n",
       "    <tr>\n",
       "      <th>55</th>\n",
       "      <td>0.001912</td>\n",
       "    </tr>\n",
       "    <tr>\n",
       "      <th>15</th>\n",
       "      <td>0.001635</td>\n",
       "    </tr>\n",
       "    <tr>\n",
       "      <th>14</th>\n",
       "      <td>0.001511</td>\n",
       "    </tr>\n",
       "    <tr>\n",
       "      <th>53</th>\n",
       "      <td>0.001450</td>\n",
       "    </tr>\n",
       "    <tr>\n",
       "      <th>70</th>\n",
       "      <td>0.000802</td>\n",
       "    </tr>\n",
       "    <tr>\n",
       "      <th>54</th>\n",
       "      <td>0.000802</td>\n",
       "    </tr>\n",
       "    <tr>\n",
       "      <th>73</th>\n",
       "      <td>0.000524</td>\n",
       "    </tr>\n",
       "  </tbody>\n",
       "</table>\n",
       "</div>"
      ],
      "text/plain": [
       "         Age\n",
       "29  0.041329\n",
       "27  0.038954\n",
       "36  0.036949\n",
       "31  0.034389\n",
       "28  0.034327\n",
       "23  0.033032\n",
       "49  0.032693\n",
       "25  0.032384\n",
       "44  0.031829\n",
       "48  0.031644\n",
       "38  0.031027\n",
       "26  0.030225\n",
       "42  0.030164\n",
       "19  0.029948\n",
       "22  0.029115\n",
       "20  0.028066\n",
       "34  0.026802\n",
       "41  0.025815\n",
       "47  0.025630\n",
       "43  0.025291\n",
       "24  0.024982\n",
       "18  0.024859\n",
       "32  0.024550\n",
       "33  0.023378\n",
       "30  0.022638\n",
       "40  0.022299\n",
       "21  0.022083\n",
       "39  0.021435\n",
       "45  0.021281\n",
       "46  0.020880\n",
       "35  0.020849\n",
       "37  0.016100\n",
       "60  0.008204\n",
       "58  0.008081\n",
       "16  0.007279\n",
       "61  0.006970\n",
       "69  0.006230\n",
       "52  0.005953\n",
       "64  0.005829\n",
       "66  0.005798\n",
       "51  0.005798\n",
       "63  0.005644\n",
       "50  0.004626\n",
       "62  0.004287\n",
       "57  0.004195\n",
       "67  0.003948\n",
       "17  0.003886\n",
       "71  0.002622\n",
       "65  0.002437\n",
       "56  0.002344\n",
       "59  0.002282\n",
       "55  0.001912\n",
       "15  0.001635\n",
       "14  0.001511\n",
       "53  0.001450\n",
       "70  0.000802\n",
       "54  0.000802\n",
       "73  0.000524"
      ]
     },
     "execution_count": 24,
     "metadata": {},
     "output_type": "execute_result"
    }
   ],
   "source": [
    "freqs = pd.DataFrame(freqs)\n",
    "freqs"
   ]
  },
  {
   "cell_type": "code",
   "execution_count": 25,
   "id": "fd427a2c",
   "metadata": {},
   "outputs": [
    {
     "data": {
      "image/png": "[encoded data removed]",
      "text/plain": [
       "<Figure size 1000x600 with 1 Axes>"
      ]
     },
     "metadata": {},
     "output_type": "display_data"
    }
   ],
   "source": [
    "#Гистограмма частот\n",
    "import seaborn as sns\n",
    "import matplotlib.pyplot as plt\n",
    "freqs = pd.DataFrame(freqs)\n",
    "freqs = freqs.sort_index()\n",
    "freqs.plot(kind=\"bar\",figsize=(10,6))\n",
    "plt.show()"
   ]
  },
  {
   "cell_type": "code",
   "execution_count": 37,
   "id": "edc1b72b",
   "metadata": {},
   "outputs": [
    {
     "name": "stdout",
     "output_type": "stream",
     "text": [
      "    Rate\n",
      "29  1340\n",
      "27  1263\n",
      "36  1198\n",
      "31  1115\n",
      "28  1113\n",
      "23  1071\n",
      "49  1060\n",
      "25  1050\n",
      "44  1032\n",
      "48  1026\n",
      "38  1006\n",
      "26   980\n",
      "42   978\n",
      "19   971\n",
      "22   944\n",
      "20   910\n",
      "34   869\n",
      "41   837\n",
      "47   831\n",
      "43   820\n",
      "24   810\n",
      "18   806\n",
      "32   796\n",
      "33   758\n",
      "30   734\n",
      "40   723\n",
      "21   716\n",
      "39   695\n",
      "45   690\n",
      "46   677\n",
      "35   676\n",
      "37   522\n",
      "60   266\n",
      "58   262\n",
      "16   236\n",
      "61   226\n",
      "69   202\n",
      "52   193\n",
      "64   189\n",
      "66   188\n",
      "51   188\n",
      "63   183\n",
      "50   150\n",
      "62   139\n",
      "57   136\n",
      "67   128\n",
      "17   126\n",
      "71    85\n",
      "65    79\n",
      "56    76\n",
      "59    74\n",
      "55    62\n",
      "15    53\n",
      "14    49\n",
      "53    47\n",
      "70    26\n",
      "54    26\n",
      "73    17\n"
     ]
    }
   ],
   "source": [
    "value_count = data['Age'].value_counts()\n",
    "value_count = pd.DataFrame({'Rate': value_count})\n",
    "print(value_count)"
   ]
  },
  {
   "cell_type": "code",
   "execution_count": 38,
   "id": "3acecfa9",
   "metadata": {},
   "outputs": [
    {
     "data": {
      "image/png": "[encoded data removed]",
      "text/plain": [
       "<Figure size 640x480 with 1 Axes>"
      ]
     },
     "metadata": {},
     "output_type": "display_data"
    }
   ],
   "source": [
    "#Полигон частота\n",
    "plt.plot(value_count, marker='o', linestyle='-')\n",
    "plt.xlabel('Age')\n",
    "plt.ylabel('Frequency')\n",
    "plt.show()"
   ]
  },
  {
   "cell_type": "code",
   "execution_count": 24,
   "id": "429862be",
   "metadata": {},
   "outputs": [
    {
     "data": {
      "text/plain": [
       "73"
      ]
     },
     "execution_count": 24,
     "metadata": {},
     "output_type": "execute_result"
    }
   ],
   "source": [
    "#Максимальный возраст\n",
    "maxvalue = freqs.index.max()\n",
    "maxvalue"
   ]
  },
  {
   "cell_type": "code",
   "execution_count": 25,
   "id": "5f8d5ced",
   "metadata": {},
   "outputs": [
    {
     "data": {
      "text/plain": [
       "14"
      ]
     },
     "execution_count": 25,
     "metadata": {},
     "output_type": "execute_result"
    }
   ],
   "source": [
    "#Минимальный возраст\n",
    "minvalue = freqs.index.min()\n",
    "minvalue"
   ]
  },
  {
   "cell_type": "code",
   "execution_count": 26,
   "id": "f74210fb",
   "metadata": {},
   "outputs": [
    {
     "data": {
      "text/plain": [
       "59"
      ]
     },
     "execution_count": 26,
     "metadata": {},
     "output_type": "execute_result"
    }
   ],
   "source": [
    "#Размах\n",
    "raz = maxvalue - minvalue\n",
    "raz"
   ]
  },
  {
   "cell_type": "code",
   "execution_count": 27,
   "id": "c0b489c8",
   "metadata": {},
   "outputs": [
    {
     "name": "stdout",
     "output_type": "stream",
     "text": [
      "Количество интервалов: 7.858107794616078\n"
     ]
    }
   ],
   "source": [
    "import math\n",
    "k = 1 + (3.322*math.log10(58))\n",
    "k+=1\n",
    "print('Количество интервалов:',k)"
   ]
  },
  {
   "cell_type": "code",
   "execution_count": 32,
   "id": "36a4cf5a",
   "metadata": {},
   "outputs": [
    {
     "name": "stdout",
     "output_type": "stream",
     "text": [
      "Длина интервалов: 9\n"
     ]
    }
   ],
   "source": [
    "h = (maxvalue - minvalue) / int(k)\n",
    "h+=1\n",
    "h = int(h)\n",
    "print('Длина интервалов:', h)"
   ]
  },
  {
   "cell_type": "code",
   "execution_count": 4,
   "id": "5d19ca8e",
   "metadata": {},
   "outputs": [
    {
     "data": {
      "text/html": [
       "<div>\n",
       "<style scoped>\n",
       "    .dataframe tbody tr th:only-of-type {\n",
       "        vertical-align: middle;\n",
       "    }\n",
       "\n",
       "    .dataframe tbody tr th {\n",
       "        vertical-align: top;\n",
       "    }\n",
       "\n",
       "    .dataframe thead th {\n",
       "        text-align: right;\n",
       "    }\n",
       "</style>\n",
       "<table border=\"1\" class=\"dataframe\">\n",
       "  <thead>\n",
       "    <tr style=\"text-align: right;\">\n",
       "      <th></th>\n",
       "      <th>Age</th>\n",
       "    </tr>\n",
       "  </thead>\n",
       "  <tbody>\n",
       "    <tr>\n",
       "      <th>0</th>\n",
       "      <td>23</td>\n",
       "    </tr>\n",
       "    <tr>\n",
       "      <th>1</th>\n",
       "      <td>32</td>\n",
       "    </tr>\n",
       "    <tr>\n",
       "      <th>2</th>\n",
       "      <td>27</td>\n",
       "    </tr>\n",
       "    <tr>\n",
       "      <th>3</th>\n",
       "      <td>26</td>\n",
       "    </tr>\n",
       "    <tr>\n",
       "      <th>4</th>\n",
       "      <td>44</td>\n",
       "    </tr>\n",
       "    <tr>\n",
       "      <th>...</th>\n",
       "      <td>...</td>\n",
       "    </tr>\n",
       "    <tr>\n",
       "      <th>32418</th>\n",
       "      <td>48</td>\n",
       "    </tr>\n",
       "    <tr>\n",
       "      <th>32419</th>\n",
       "      <td>47</td>\n",
       "    </tr>\n",
       "    <tr>\n",
       "      <th>32420</th>\n",
       "      <td>27</td>\n",
       "    </tr>\n",
       "    <tr>\n",
       "      <th>32421</th>\n",
       "      <td>54</td>\n",
       "    </tr>\n",
       "    <tr>\n",
       "      <th>32422</th>\n",
       "      <td>45</td>\n",
       "    </tr>\n",
       "  </tbody>\n",
       "</table>\n",
       "<p>32423 rows × 1 columns</p>\n",
       "</div>"
      ],
      "text/plain": [
       "      Age\n",
       "0      23\n",
       "1      32\n",
       "2      27\n",
       "3      26\n",
       "4      44\n",
       "...    ..\n",
       "32418  48\n",
       "32419  47\n",
       "32420  27\n",
       "32421  54\n",
       "32422  45\n",
       "\n",
       "[32423 rows x 1 columns]"
      ]
     },
     "execution_count": 4,
     "metadata": {},
     "output_type": "execute_result"
    }
   ],
   "source": [
    "data2 = data\n",
    "data2"
   ]
  },
  {
   "cell_type": "code",
   "execution_count": 39,
   "id": "f44373dd",
   "metadata": {
    "scrolled": true
   },
   "outputs": [
    {
     "data": {
      "text/html": [
       "<div>\n",
       "<style scoped>\n",
       "    .dataframe tbody tr th:only-of-type {\n",
       "        vertical-align: middle;\n",
       "    }\n",
       "\n",
       "    .dataframe tbody tr th {\n",
       "        vertical-align: top;\n",
       "    }\n",
       "\n",
       "    .dataframe thead th {\n",
       "        text-align: right;\n",
       "    }\n",
       "</style>\n",
       "<table border=\"1\" class=\"dataframe\">\n",
       "  <thead>\n",
       "    <tr style=\"text-align: right;\">\n",
       "      <th></th>\n",
       "      <th>Age</th>\n",
       "      <th>interval</th>\n",
       "    </tr>\n",
       "  </thead>\n",
       "  <tbody>\n",
       "    <tr>\n",
       "      <th>0</th>\n",
       "      <td>23</td>\n",
       "      <td>[23, 32)</td>\n",
       "    </tr>\n",
       "    <tr>\n",
       "      <th>1</th>\n",
       "      <td>32</td>\n",
       "      <td>[32, 41)</td>\n",
       "    </tr>\n",
       "    <tr>\n",
       "      <th>2</th>\n",
       "      <td>27</td>\n",
       "      <td>[23, 32)</td>\n",
       "    </tr>\n",
       "    <tr>\n",
       "      <th>3</th>\n",
       "      <td>26</td>\n",
       "      <td>[23, 32)</td>\n",
       "    </tr>\n",
       "    <tr>\n",
       "      <th>4</th>\n",
       "      <td>44</td>\n",
       "      <td>[41, 50)</td>\n",
       "    </tr>\n",
       "    <tr>\n",
       "      <th>...</th>\n",
       "      <td>...</td>\n",
       "      <td>...</td>\n",
       "    </tr>\n",
       "    <tr>\n",
       "      <th>32418</th>\n",
       "      <td>48</td>\n",
       "      <td>[41, 50)</td>\n",
       "    </tr>\n",
       "    <tr>\n",
       "      <th>32419</th>\n",
       "      <td>47</td>\n",
       "      <td>[41, 50)</td>\n",
       "    </tr>\n",
       "    <tr>\n",
       "      <th>32420</th>\n",
       "      <td>27</td>\n",
       "      <td>[23, 32)</td>\n",
       "    </tr>\n",
       "    <tr>\n",
       "      <th>32421</th>\n",
       "      <td>54</td>\n",
       "      <td>[50, 59)</td>\n",
       "    </tr>\n",
       "    <tr>\n",
       "      <th>32422</th>\n",
       "      <td>45</td>\n",
       "      <td>[41, 50)</td>\n",
       "    </tr>\n",
       "  </tbody>\n",
       "</table>\n",
       "<p>32423 rows × 2 columns</p>\n",
       "</div>"
      ],
      "text/plain": [
       "       Age  interval\n",
       "0       23  [23, 32)\n",
       "1       32  [32, 41)\n",
       "2       27  [23, 32)\n",
       "3       26  [23, 32)\n",
       "4       44  [41, 50)\n",
       "...    ...       ...\n",
       "32418   48  [41, 50)\n",
       "32419   47  [41, 50)\n",
       "32420   27  [23, 32)\n",
       "32421   54  [50, 59)\n",
       "32422   45  [41, 50)\n",
       "\n",
       "[32423 rows x 2 columns]"
      ]
     },
     "execution_count": 39,
     "metadata": {},
     "output_type": "execute_result"
    }
   ],
   "source": [
    "#Разбиение чисел на интервалы, 14, 73(должен быть от 14)\n",
    "data2['Age'] = pd.to_numeric(data2['Age'])\n",
    "bins=[14,23,32,41,50,59,68,77]\n",
    "data2['interval'] = pd.cut(data2['Age'],bins=bins, right=False)\n",
    "data"
   ]
  },
  {
   "cell_type": "code",
   "execution_count": 40,
   "id": "a87e31f4",
   "metadata": {},
   "outputs": [
    {
     "data": {
      "text/html": [
       "<div>\n",
       "<style scoped>\n",
       "    .dataframe tbody tr th:only-of-type {\n",
       "        vertical-align: middle;\n",
       "    }\n",
       "\n",
       "    .dataframe tbody tr th {\n",
       "        vertical-align: top;\n",
       "    }\n",
       "\n",
       "    .dataframe thead th {\n",
       "        text-align: right;\n",
       "    }\n",
       "</style>\n",
       "<table border=\"1\" class=\"dataframe\">\n",
       "  <thead>\n",
       "    <tr style=\"text-align: right;\">\n",
       "      <th></th>\n",
       "      <th>count</th>\n",
       "    </tr>\n",
       "  </thead>\n",
       "  <tbody>\n",
       "    <tr>\n",
       "      <th>[23, 32)</th>\n",
       "      <td>9476</td>\n",
       "    </tr>\n",
       "    <tr>\n",
       "      <th>[41, 50)</th>\n",
       "      <td>7951</td>\n",
       "    </tr>\n",
       "    <tr>\n",
       "      <th>[32, 41)</th>\n",
       "      <td>7243</td>\n",
       "    </tr>\n",
       "    <tr>\n",
       "      <th>[14, 23)</th>\n",
       "      <td>4811</td>\n",
       "    </tr>\n",
       "    <tr>\n",
       "      <th>[59, 68)</th>\n",
       "      <td>1472</td>\n",
       "    </tr>\n",
       "    <tr>\n",
       "      <th>[50, 59)</th>\n",
       "      <td>1140</td>\n",
       "    </tr>\n",
       "    <tr>\n",
       "      <th>[68, 77)</th>\n",
       "      <td>330</td>\n",
       "    </tr>\n",
       "  </tbody>\n",
       "</table>\n",
       "</div>"
      ],
      "text/plain": [
       "          count\n",
       "[23, 32)   9476\n",
       "[41, 50)   7951\n",
       "[32, 41)   7243\n",
       "[14, 23)   4811\n",
       "[59, 68)   1472\n",
       "[50, 59)   1140\n",
       "[68, 77)    330"
      ]
     },
     "execution_count": 40,
     "metadata": {},
     "output_type": "execute_result"
    }
   ],
   "source": [
    "value_count2 = data2['interval'].value_counts()\n",
    "value_count2 = pd.DataFrame(value_count2)\n",
    "value_count2.columns = ['count']\n",
    "value_count2"
   ]
  },
  {
   "cell_type": "code",
   "execution_count": 41,
   "id": "65d52e5c",
   "metadata": {},
   "outputs": [
    {
     "data": {
      "image/png": "[encoded data removed]",
      "text/plain": [
       "<Figure size 1000x800 with 1 Axes>"
      ]
     },
     "metadata": {},
     "output_type": "display_data"
    }
   ],
   "source": [
    "#Гистограмма частот для интервальной оценки\n",
    "value_count2 = value_count2.sort_index()\n",
    "value_count2.index = value_count2.index.astype(str)\n",
    "value_count2.plot(kind='bar', figsize=(10, 8))\n",
    "plt.xlabel(\"Age\")\n",
    "plt.ylabel(\"Frequency\")\n",
    "plt.xticks(rotation=0)\n",
    "plt.show()"
   ]
  },
  {
   "cell_type": "code",
   "execution_count": 10,
   "id": "efef076d",
   "metadata": {},
   "outputs": [
    {
     "name": "stderr",
     "output_type": "stream",
     "text": [
      "C:\\Users\\sholo\\AppData\\Local\\Temp\\ipykernel_11204\\3266061786.py:1: FutureWarning: The default value of numeric_only in DataFrame.mean is deprecated. In a future version, it will default to False. In addition, specifying 'numeric_only=None' is deprecated. Select only valid columns or specify the value of numeric_only to silence this warning.\n",
      "  data2.mean()\n"
     ]
    },
    {
     "data": {
      "text/plain": [
       "Age    35.373007\n",
       "dtype: float64"
      ]
     },
     "execution_count": 10,
     "metadata": {},
     "output_type": "execute_result"
    }
   ],
   "source": [
    "#Выборочная средняя\n",
    "data2.mean()"
   ]
  },
  {
   "cell_type": "code",
   "execution_count": 11,
   "id": "0b23228c",
   "metadata": {},
   "outputs": [
    {
     "name": "stderr",
     "output_type": "stream",
     "text": [
      "C:\\Users\\sholo\\AppData\\Local\\Temp\\ipykernel_11204\\1206511311.py:2: FutureWarning: The default value of numeric_only in DataFrame.std is deprecated. In a future version, it will default to False. In addition, specifying 'numeric_only=None' is deprecated. Select only valid columns or specify the value of numeric_only to silence this warning.\n",
      "  data2.std()\n"
     ]
    },
    {
     "data": {
      "text/plain": [
       "Age    12.038332\n",
       "dtype: float64"
      ]
     },
     "execution_count": 11,
     "metadata": {},
     "output_type": "execute_result"
    }
   ],
   "source": [
    "#Среднее квадратичное отклонение\n",
    "data2.std()"
   ]
  },
  {
   "cell_type": "code",
   "execution_count": 12,
   "id": "af5d4bf7",
   "metadata": {},
   "outputs": [
    {
     "name": "stderr",
     "output_type": "stream",
     "text": [
      "C:\\Users\\sholo\\AppData\\Local\\Temp\\ipykernel_11204\\3072563766.py:1: FutureWarning: The default value of numeric_only in DataFrame.median is deprecated. In a future version, it will default to False. In addition, specifying 'numeric_only=None' is deprecated. Select only valid columns or specify the value of numeric_only to silence this warning.\n",
      "  data2.median()\n"
     ]
    },
    {
     "data": {
      "text/plain": [
       "Age    34.0\n",
       "dtype: float64"
      ]
     },
     "execution_count": 12,
     "metadata": {},
     "output_type": "execute_result"
    }
   ],
   "source": [
    "#Медиана\n",
    "data2.median()"
   ]
  },
  {
   "cell_type": "code",
   "execution_count": 13,
   "id": "3dc54415",
   "metadata": {},
   "outputs": [
    {
     "name": "stderr",
     "output_type": "stream",
     "text": [
      "C:\\Users\\sholo\\AppData\\Local\\Temp\\ipykernel_11204\\4091561531.py:2: FutureWarning: The default value of numeric_only in DataFrame.var is deprecated. In a future version, it will default to False. In addition, specifying 'numeric_only=None' is deprecated. Select only valid columns or specify the value of numeric_only to silence this warning.\n",
      "  data2.var()\n"
     ]
    },
    {
     "data": {
      "text/plain": [
       "Age    144.921438\n",
       "dtype: float64"
      ]
     },
     "execution_count": 13,
     "metadata": {},
     "output_type": "execute_result"
    }
   ],
   "source": [
    "#Дисперсия\n",
    "data2.var()"
   ]
  },
  {
   "cell_type": "code",
   "execution_count": 14,
   "id": "78549256",
   "metadata": {},
   "outputs": [
    {
     "data": {
      "text/plain": [
       "34.0320132642364"
      ]
     },
     "execution_count": 14,
     "metadata": {},
     "output_type": "execute_result"
    }
   ],
   "source": [
    "#Коэффициент вариации\n",
    "variance = (np.std(data.Age) / np.mean(data.Age)) *100\n",
    "variance"
   ]
  },
  {
   "cell_type": "code",
   "execution_count": 16,
   "id": "f13d70d1",
   "metadata": {},
   "outputs": [
    {
     "name": "stderr",
     "output_type": "stream",
     "text": [
      "C:\\Users\\sholo\\AppData\\Local\\Temp\\ipykernel_11204\\1463916418.py:1: FutureWarning: Unlike other reduction functions (e.g. `skew`, `kurtosis`), the default behavior of `mode` typically preserves the axis it acts along. In SciPy 1.11.0, this behavior will change: the default value of `keepdims` will become False, the `axis` over which the statistic is taken will be eliminated, and the value None will no longer be accepted. Set `keepdims` to True or False to avoid this warning.\n",
      "  mode2 = stats.mode(data2)\n",
      "C:\\Users\\sholo\\AppData\\Local\\Temp\\ipykernel_11204\\1463916418.py:1: DeprecationWarning: Support for non-numeric arrays has been deprecated as of SciPy 1.9.0 and will be removed in 1.11.0. `pandas.DataFrame.mode` can be used instead, see https://pandas.pydata.org/docs/reference/api/pandas.DataFrame.mode.html.\n",
      "  mode2 = stats.mode(data2)\n"
     ]
    },
    {
     "data": {
      "text/plain": [
       "array([[29, Interval(23, 32, closed='right')]], dtype=object)"
      ]
     },
     "execution_count": 16,
     "metadata": {},
     "output_type": "execute_result"
    }
   ],
   "source": [
    "#Мода\n",
    "mode2 = stats.mode(data2)\n",
    "mode2.mode"
   ]
  },
  {
   "cell_type": "code",
   "execution_count": 35,
   "id": "c623e26d",
   "metadata": {},
   "outputs": [
    {
     "name": "stdout",
     "output_type": "stream",
     "text": [
      "(14, 23]    9\n",
      "(23, 32]    9\n",
      "(32, 41]    9\n",
      "(41, 50]    9\n",
      "(50, 59]    9\n",
      "(59, 68]    8\n",
      "(68, 77]    4\n",
      "Name: interval, dtype: int64\n"
     ]
    }
   ],
   "source": [
    "data_count = data['interval'].value_counts()\n",
    "print(data_count)\n"
   ]
  },
  {
   "cell_type": "code",
   "execution_count": 36,
   "id": "3fd7344e",
   "metadata": {},
   "outputs": [
    {
     "data": {
      "text/html": [
       "<div>\n",
       "<style scoped>\n",
       "    .dataframe tbody tr th:only-of-type {\n",
       "        vertical-align: middle;\n",
       "    }\n",
       "\n",
       "    .dataframe tbody tr th {\n",
       "        vertical-align: top;\n",
       "    }\n",
       "\n",
       "    .dataframe thead th {\n",
       "        text-align: right;\n",
       "    }\n",
       "</style>\n",
       "<table border=\"1\" class=\"dataframe\">\n",
       "  <thead>\n",
       "    <tr style=\"text-align: right;\">\n",
       "      <th></th>\n",
       "      <th>count</th>\n",
       "      <th>interval</th>\n",
       "    </tr>\n",
       "  </thead>\n",
       "  <tbody>\n",
       "    <tr>\n",
       "      <th>0</th>\n",
       "      <td>9</td>\n",
       "      <td>(14, 23]</td>\n",
       "    </tr>\n",
       "    <tr>\n",
       "      <th>1</th>\n",
       "      <td>9</td>\n",
       "      <td>(23, 32]</td>\n",
       "    </tr>\n",
       "    <tr>\n",
       "      <th>2</th>\n",
       "      <td>9</td>\n",
       "      <td>(32, 41]</td>\n",
       "    </tr>\n",
       "    <tr>\n",
       "      <th>3</th>\n",
       "      <td>9</td>\n",
       "      <td>(41, 50]</td>\n",
       "    </tr>\n",
       "    <tr>\n",
       "      <th>4</th>\n",
       "      <td>9</td>\n",
       "      <td>(50, 59]</td>\n",
       "    </tr>\n",
       "    <tr>\n",
       "      <th>5</th>\n",
       "      <td>8</td>\n",
       "      <td>(59, 68]</td>\n",
       "    </tr>\n",
       "    <tr>\n",
       "      <th>6</th>\n",
       "      <td>4</td>\n",
       "      <td>(68, 77]</td>\n",
       "    </tr>\n",
       "  </tbody>\n",
       "</table>\n",
       "</div>"
      ],
      "text/plain": [
       "   count  interval\n",
       "0      9  (14, 23]\n",
       "1      9  (23, 32]\n",
       "2      9  (32, 41]\n",
       "3      9  (41, 50]\n",
       "4      9  (50, 59]\n",
       "5      8  (59, 68]\n",
       "6      4  (68, 77]"
      ]
     },
     "execution_count": 36,
     "metadata": {},
     "output_type": "execute_result"
    }
   ],
   "source": [
    "dt_count = pd.DataFrame(data_count)\n",
    "dt_count['index'] = dt_count.index\n",
    "dt_count.columns = ['count','interval']\n",
    "dt_count.reset_index(drop=True,inplace=True)\n",
    "dt_count"
   ]
  },
  {
   "cell_type": "code",
   "execution_count": 76,
   "id": "10a22819",
   "metadata": {},
   "outputs": [
    {
     "data": {
      "text/html": [
       "<div>\n",
       "<style scoped>\n",
       "    .dataframe tbody tr th:only-of-type {\n",
       "        vertical-align: middle;\n",
       "    }\n",
       "\n",
       "    .dataframe tbody tr th {\n",
       "        vertical-align: top;\n",
       "    }\n",
       "\n",
       "    .dataframe thead th {\n",
       "        text-align: right;\n",
       "    }\n",
       "</style>\n",
       "<table border=\"1\" class=\"dataframe\">\n",
       "  <thead>\n",
       "    <tr style=\"text-align: right;\">\n",
       "      <th></th>\n",
       "      <th>count</th>\n",
       "      <th>interval</th>\n",
       "    </tr>\n",
       "  </thead>\n",
       "  <tbody>\n",
       "    <tr>\n",
       "      <th>0</th>\n",
       "      <td>1</td>\n",
       "      <td>(0, 14]</td>\n",
       "    </tr>\n",
       "    <tr>\n",
       "      <th>1</th>\n",
       "      <td>10</td>\n",
       "      <td>(14, 24]</td>\n",
       "    </tr>\n",
       "    <tr>\n",
       "      <th>2</th>\n",
       "      <td>10</td>\n",
       "      <td>(24, 34]</td>\n",
       "    </tr>\n",
       "    <tr>\n",
       "      <th>3</th>\n",
       "      <td>10</td>\n",
       "      <td>(34, 44]</td>\n",
       "    </tr>\n",
       "    <tr>\n",
       "      <th>4</th>\n",
       "      <td>10</td>\n",
       "      <td>(44, 54]</td>\n",
       "    </tr>\n",
       "    <tr>\n",
       "      <th>5</th>\n",
       "      <td>10</td>\n",
       "      <td>(54, 64]</td>\n",
       "    </tr>\n",
       "    <tr>\n",
       "      <th>6</th>\n",
       "      <td>7</td>\n",
       "      <td>(64, 74]</td>\n",
       "    </tr>\n",
       "  </tbody>\n",
       "</table>\n",
       "</div>"
      ],
      "text/plain": [
       "   count  interval\n",
       "0      1   (0, 14]\n",
       "1     10  (14, 24]\n",
       "2     10  (24, 34]\n",
       "3     10  (34, 44]\n",
       "4     10  (44, 54]\n",
       "5     10  (54, 64]\n",
       "6      7  (64, 74]"
      ]
     },
     "execution_count": 76,
     "metadata": {},
     "output_type": "execute_result"
    }
   ],
   "source": [
    "dt_count = dt_count.iloc[np.arange(-1, len(dt_count)-1)]\n",
    "dt_count.reset_index(drop=True,inplace=True)\n",
    "dt_count"
   ]
  },
  {
   "cell_type": "code",
   "execution_count": 59,
   "id": "260d91a0",
   "metadata": {},
   "outputs": [
    {
     "name": "stdout",
     "output_type": "stream",
     "text": [
      "[ 7. 19. 29. 39. 49. 59. 69.]\n"
     ]
    }
   ],
   "source": [
    "age = data['Age'].to_list()\n",
    "bins=[0,14,24,34,44,54,64,74]\n",
    "y,edges = np.histogram(age, bins)\n",
    "centers = 0.5*(edges[1:]+ edges[:-1])\n",
    "print(centers)\n"
   ]
  },
  {
   "cell_type": "code",
   "execution_count": 60,
   "id": "a84ef435",
   "metadata": {},
   "outputs": [
    {
     "name": "stderr",
     "output_type": "stream",
     "text": [
      "C:\\Users\\sholo\\AppData\\Local\\Temp\\ipykernel_8732\\2216830475.py:2: SettingWithCopyWarning: \n",
      "A value is trying to be set on a copy of a slice from a DataFrame.\n",
      "Try using .loc[row_indexer,col_indexer] = value instead\n",
      "\n",
      "See the caveats in the documentation: https://pandas.pydata.org/pandas-docs/stable/user_guide/indexing.html#returning-a-view-versus-a-copy\n",
      "  dt_count['centers'] = centers\n"
     ]
    },
    {
     "data": {
      "text/html": [
       "<div>\n",
       "<style scoped>\n",
       "    .dataframe tbody tr th:only-of-type {\n",
       "        vertical-align: middle;\n",
       "    }\n",
       "\n",
       "    .dataframe tbody tr th {\n",
       "        vertical-align: top;\n",
       "    }\n",
       "\n",
       "    .dataframe thead th {\n",
       "        text-align: right;\n",
       "    }\n",
       "</style>\n",
       "<table border=\"1\" class=\"dataframe\">\n",
       "  <thead>\n",
       "    <tr style=\"text-align: right;\">\n",
       "      <th></th>\n",
       "      <th>count</th>\n",
       "      <th>interval</th>\n",
       "      <th>centers</th>\n",
       "    </tr>\n",
       "  </thead>\n",
       "  <tbody>\n",
       "    <tr>\n",
       "      <th>0</th>\n",
       "      <td>1</td>\n",
       "      <td>(0, 14]</td>\n",
       "      <td>7.0</td>\n",
       "    </tr>\n",
       "    <tr>\n",
       "      <th>1</th>\n",
       "      <td>10</td>\n",
       "      <td>(14, 24]</td>\n",
       "      <td>19.0</td>\n",
       "    </tr>\n",
       "    <tr>\n",
       "      <th>2</th>\n",
       "      <td>10</td>\n",
       "      <td>(24, 34]</td>\n",
       "      <td>29.0</td>\n",
       "    </tr>\n",
       "    <tr>\n",
       "      <th>3</th>\n",
       "      <td>10</td>\n",
       "      <td>(34, 44]</td>\n",
       "      <td>39.0</td>\n",
       "    </tr>\n",
       "    <tr>\n",
       "      <th>4</th>\n",
       "      <td>10</td>\n",
       "      <td>(44, 54]</td>\n",
       "      <td>49.0</td>\n",
       "    </tr>\n",
       "    <tr>\n",
       "      <th>5</th>\n",
       "      <td>10</td>\n",
       "      <td>(54, 64]</td>\n",
       "      <td>59.0</td>\n",
       "    </tr>\n",
       "    <tr>\n",
       "      <th>6</th>\n",
       "      <td>7</td>\n",
       "      <td>(64, 74]</td>\n",
       "      <td>69.0</td>\n",
       "    </tr>\n",
       "  </tbody>\n",
       "</table>\n",
       "</div>"
      ],
      "text/plain": [
       "   count  interval  centers\n",
       "0      1   (0, 14]      7.0\n",
       "1     10  (14, 24]     19.0\n",
       "2     10  (24, 34]     29.0\n",
       "3     10  (34, 44]     39.0\n",
       "4     10  (44, 54]     49.0\n",
       "5     10  (54, 64]     59.0\n",
       "6      7  (64, 74]     69.0"
      ]
     },
     "execution_count": 60,
     "metadata": {},
     "output_type": "execute_result"
    }
   ],
   "source": [
    "#Интервальный ряд распределения\n",
    "dt_count['centers'] = centers\n",
    "dt_count.columns = ['count','interval','centers']\n",
    "dt_count"
   ]
  },
  {
   "cell_type": "code",
   "execution_count": 61,
   "id": "c38c93be",
   "metadata": {},
   "outputs": [
    {
     "name": "stderr",
     "output_type": "stream",
     "text": [
      "C:\\Users\\sholo\\AppData\\Local\\Temp\\ipykernel_8732\\2064325841.py:5: SettingWithCopyWarning: \n",
      "A value is trying to be set on a copy of a slice from a DataFrame.\n",
      "Try using .loc[row_indexer,col_indexer] = value instead\n",
      "\n",
      "See the caveats in the documentation: https://pandas.pydata.org/pandas-docs/stable/user_guide/indexing.html#returning-a-view-versus-a-copy\n",
      "  dt_count['frequency'] = freq\n"
     ]
    },
    {
     "data": {
      "text/html": [
       "<div>\n",
       "<style scoped>\n",
       "    .dataframe tbody tr th:only-of-type {\n",
       "        vertical-align: middle;\n",
       "    }\n",
       "\n",
       "    .dataframe tbody tr th {\n",
       "        vertical-align: top;\n",
       "    }\n",
       "\n",
       "    .dataframe thead th {\n",
       "        text-align: right;\n",
       "    }\n",
       "</style>\n",
       "<table border=\"1\" class=\"dataframe\">\n",
       "  <thead>\n",
       "    <tr style=\"text-align: right;\">\n",
       "      <th></th>\n",
       "      <th>count</th>\n",
       "      <th>interval</th>\n",
       "      <th>centers</th>\n",
       "      <th>frequency</th>\n",
       "    </tr>\n",
       "  </thead>\n",
       "  <tbody>\n",
       "    <tr>\n",
       "      <th>0</th>\n",
       "      <td>1</td>\n",
       "      <td>(0, 14]</td>\n",
       "      <td>7.0</td>\n",
       "      <td>0.017241</td>\n",
       "    </tr>\n",
       "    <tr>\n",
       "      <th>1</th>\n",
       "      <td>10</td>\n",
       "      <td>(14, 24]</td>\n",
       "      <td>19.0</td>\n",
       "      <td>0.172414</td>\n",
       "    </tr>\n",
       "    <tr>\n",
       "      <th>2</th>\n",
       "      <td>10</td>\n",
       "      <td>(24, 34]</td>\n",
       "      <td>29.0</td>\n",
       "      <td>0.172414</td>\n",
       "    </tr>\n",
       "    <tr>\n",
       "      <th>3</th>\n",
       "      <td>10</td>\n",
       "      <td>(34, 44]</td>\n",
       "      <td>39.0</td>\n",
       "      <td>0.172414</td>\n",
       "    </tr>\n",
       "    <tr>\n",
       "      <th>4</th>\n",
       "      <td>10</td>\n",
       "      <td>(44, 54]</td>\n",
       "      <td>49.0</td>\n",
       "      <td>0.172414</td>\n",
       "    </tr>\n",
       "    <tr>\n",
       "      <th>5</th>\n",
       "      <td>10</td>\n",
       "      <td>(54, 64]</td>\n",
       "      <td>59.0</td>\n",
       "      <td>0.172414</td>\n",
       "    </tr>\n",
       "    <tr>\n",
       "      <th>6</th>\n",
       "      <td>7</td>\n",
       "      <td>(64, 74]</td>\n",
       "      <td>69.0</td>\n",
       "      <td>0.120690</td>\n",
       "    </tr>\n",
       "  </tbody>\n",
       "</table>\n",
       "</div>"
      ],
      "text/plain": [
       "   count  interval  centers  frequency\n",
       "0      1   (0, 14]      7.0   0.017241\n",
       "1     10  (14, 24]     19.0   0.172414\n",
       "2     10  (24, 34]     29.0   0.172414\n",
       "3     10  (34, 44]     39.0   0.172414\n",
       "4     10  (44, 54]     49.0   0.172414\n",
       "5     10  (54, 64]     59.0   0.172414\n",
       "6      7  (64, 74]     69.0   0.120690"
      ]
     },
     "execution_count": 61,
     "metadata": {},
     "output_type": "execute_result"
    }
   ],
   "source": [
    "sum_count = sum(dt_count['count'])\n",
    "freq=0\n",
    "for i in range(len(dt_count['count'])):\n",
    "    freq = dt_count['count'] / sum_count\n",
    "dt_count['frequency'] = freq\n",
    "dt_count"
   ]
  },
  {
   "cell_type": "code",
   "execution_count": 62,
   "id": "7f74f3e5",
   "metadata": {},
   "outputs": [
    {
     "name": "stderr",
     "output_type": "stream",
     "text": [
      "C:\\Users\\sholo\\AppData\\Local\\Temp\\ipykernel_8732\\1070116511.py:4: SettingWithCopyWarning: \n",
      "A value is trying to be set on a copy of a slice from a DataFrame.\n",
      "Try using .loc[row_indexer,col_indexer] = value instead\n",
      "\n",
      "See the caveats in the documentation: https://pandas.pydata.org/pandas-docs/stable/user_guide/indexing.html#returning-a-view-versus-a-copy\n",
      "  dt_count['frequency_density'] = frequency_density\n"
     ]
    },
    {
     "data": {
      "text/html": [
       "<div>\n",
       "<style scoped>\n",
       "    .dataframe tbody tr th:only-of-type {\n",
       "        vertical-align: middle;\n",
       "    }\n",
       "\n",
       "    .dataframe tbody tr th {\n",
       "        vertical-align: top;\n",
       "    }\n",
       "\n",
       "    .dataframe thead th {\n",
       "        text-align: right;\n",
       "    }\n",
       "</style>\n",
       "<table border=\"1\" class=\"dataframe\">\n",
       "  <thead>\n",
       "    <tr style=\"text-align: right;\">\n",
       "      <th></th>\n",
       "      <th>count</th>\n",
       "      <th>interval</th>\n",
       "      <th>centers</th>\n",
       "      <th>frequency</th>\n",
       "      <th>frequency_density</th>\n",
       "    </tr>\n",
       "  </thead>\n",
       "  <tbody>\n",
       "    <tr>\n",
       "      <th>0</th>\n",
       "      <td>1</td>\n",
       "      <td>(0, 14]</td>\n",
       "      <td>7.0</td>\n",
       "      <td>0.017241</td>\n",
       "      <td>0.101695</td>\n",
       "    </tr>\n",
       "    <tr>\n",
       "      <th>1</th>\n",
       "      <td>10</td>\n",
       "      <td>(14, 24]</td>\n",
       "      <td>19.0</td>\n",
       "      <td>0.172414</td>\n",
       "      <td>1.016949</td>\n",
       "    </tr>\n",
       "    <tr>\n",
       "      <th>2</th>\n",
       "      <td>10</td>\n",
       "      <td>(24, 34]</td>\n",
       "      <td>29.0</td>\n",
       "      <td>0.172414</td>\n",
       "      <td>1.016949</td>\n",
       "    </tr>\n",
       "    <tr>\n",
       "      <th>3</th>\n",
       "      <td>10</td>\n",
       "      <td>(34, 44]</td>\n",
       "      <td>39.0</td>\n",
       "      <td>0.172414</td>\n",
       "      <td>1.016949</td>\n",
       "    </tr>\n",
       "    <tr>\n",
       "      <th>4</th>\n",
       "      <td>10</td>\n",
       "      <td>(44, 54]</td>\n",
       "      <td>49.0</td>\n",
       "      <td>0.172414</td>\n",
       "      <td>1.016949</td>\n",
       "    </tr>\n",
       "    <tr>\n",
       "      <th>5</th>\n",
       "      <td>10</td>\n",
       "      <td>(54, 64]</td>\n",
       "      <td>59.0</td>\n",
       "      <td>0.172414</td>\n",
       "      <td>1.016949</td>\n",
       "    </tr>\n",
       "    <tr>\n",
       "      <th>6</th>\n",
       "      <td>7</td>\n",
       "      <td>(64, 74]</td>\n",
       "      <td>69.0</td>\n",
       "      <td>0.120690</td>\n",
       "      <td>0.711864</td>\n",
       "    </tr>\n",
       "  </tbody>\n",
       "</table>\n",
       "</div>"
      ],
      "text/plain": [
       "   count  interval  centers  frequency  frequency_density\n",
       "0      1   (0, 14]      7.0   0.017241           0.101695\n",
       "1     10  (14, 24]     19.0   0.172414           1.016949\n",
       "2     10  (24, 34]     29.0   0.172414           1.016949\n",
       "3     10  (34, 44]     39.0   0.172414           1.016949\n",
       "4     10  (44, 54]     49.0   0.172414           1.016949\n",
       "5     10  (54, 64]     59.0   0.172414           1.016949\n",
       "6      7  (64, 74]     69.0   0.120690           0.711864"
      ]
     },
     "execution_count": 62,
     "metadata": {},
     "output_type": "execute_result"
    }
   ],
   "source": [
    "frequency_density=0\n",
    "for i in range(len(dt_count['count'])):\n",
    "    frequency_density = dt_count['count'] / h\n",
    "dt_count['frequency_density'] = frequency_density\n",
    "dt_count"
   ]
  },
  {
   "cell_type": "code",
   "execution_count": 63,
   "id": "9c4a669d",
   "metadata": {},
   "outputs": [
    {
     "name": "stderr",
     "output_type": "stream",
     "text": [
      "C:\\Users\\sholo\\AppData\\Local\\Temp\\ipykernel_8732\\2125078814.py:5: SettingWithCopyWarning: \n",
      "A value is trying to be set on a copy of a slice from a DataFrame.\n",
      "Try using .loc[row_indexer,col_indexer] = value instead\n",
      "\n",
      "See the caveats in the documentation: https://pandas.pydata.org/pandas-docs/stable/user_guide/indexing.html#returning-a-view-versus-a-copy\n",
      "  dt_count['rel_freq_dens'] = rel_freq_dens\n"
     ]
    },
    {
     "data": {
      "text/html": [
       "<div>\n",
       "<style scoped>\n",
       "    .dataframe tbody tr th:only-of-type {\n",
       "        vertical-align: middle;\n",
       "    }\n",
       "\n",
       "    .dataframe tbody tr th {\n",
       "        vertical-align: top;\n",
       "    }\n",
       "\n",
       "    .dataframe thead th {\n",
       "        text-align: right;\n",
       "    }\n",
       "</style>\n",
       "<table border=\"1\" class=\"dataframe\">\n",
       "  <thead>\n",
       "    <tr style=\"text-align: right;\">\n",
       "      <th></th>\n",
       "      <th>count</th>\n",
       "      <th>interval</th>\n",
       "      <th>centers</th>\n",
       "      <th>frequency</th>\n",
       "      <th>frequency_density</th>\n",
       "      <th>rel_freq_dens</th>\n",
       "    </tr>\n",
       "  </thead>\n",
       "  <tbody>\n",
       "    <tr>\n",
       "      <th>0</th>\n",
       "      <td>1</td>\n",
       "      <td>(0, 14]</td>\n",
       "      <td>7.0</td>\n",
       "      <td>0.017241</td>\n",
       "      <td>0.101695</td>\n",
       "      <td>0.001753</td>\n",
       "    </tr>\n",
       "    <tr>\n",
       "      <th>1</th>\n",
       "      <td>10</td>\n",
       "      <td>(14, 24]</td>\n",
       "      <td>19.0</td>\n",
       "      <td>0.172414</td>\n",
       "      <td>1.016949</td>\n",
       "      <td>0.017534</td>\n",
       "    </tr>\n",
       "    <tr>\n",
       "      <th>2</th>\n",
       "      <td>10</td>\n",
       "      <td>(24, 34]</td>\n",
       "      <td>29.0</td>\n",
       "      <td>0.172414</td>\n",
       "      <td>1.016949</td>\n",
       "      <td>0.017534</td>\n",
       "    </tr>\n",
       "    <tr>\n",
       "      <th>3</th>\n",
       "      <td>10</td>\n",
       "      <td>(34, 44]</td>\n",
       "      <td>39.0</td>\n",
       "      <td>0.172414</td>\n",
       "      <td>1.016949</td>\n",
       "      <td>0.017534</td>\n",
       "    </tr>\n",
       "    <tr>\n",
       "      <th>4</th>\n",
       "      <td>10</td>\n",
       "      <td>(44, 54]</td>\n",
       "      <td>49.0</td>\n",
       "      <td>0.172414</td>\n",
       "      <td>1.016949</td>\n",
       "      <td>0.017534</td>\n",
       "    </tr>\n",
       "    <tr>\n",
       "      <th>5</th>\n",
       "      <td>10</td>\n",
       "      <td>(54, 64]</td>\n",
       "      <td>59.0</td>\n",
       "      <td>0.172414</td>\n",
       "      <td>1.016949</td>\n",
       "      <td>0.017534</td>\n",
       "    </tr>\n",
       "    <tr>\n",
       "      <th>6</th>\n",
       "      <td>7</td>\n",
       "      <td>(64, 74]</td>\n",
       "      <td>69.0</td>\n",
       "      <td>0.120690</td>\n",
       "      <td>0.711864</td>\n",
       "      <td>0.012274</td>\n",
       "    </tr>\n",
       "  </tbody>\n",
       "</table>\n",
       "</div>"
      ],
      "text/plain": [
       "   count  interval  centers  frequency  frequency_density  rel_freq_dens\n",
       "0      1   (0, 14]      7.0   0.017241           0.101695       0.001753\n",
       "1     10  (14, 24]     19.0   0.172414           1.016949       0.017534\n",
       "2     10  (24, 34]     29.0   0.172414           1.016949       0.017534\n",
       "3     10  (34, 44]     39.0   0.172414           1.016949       0.017534\n",
       "4     10  (44, 54]     49.0   0.172414           1.016949       0.017534\n",
       "5     10  (54, 64]     59.0   0.172414           1.016949       0.017534\n",
       "6      7  (64, 74]     69.0   0.120690           0.711864       0.012274"
      ]
     },
     "execution_count": 63,
     "metadata": {},
     "output_type": "execute_result"
    }
   ],
   "source": [
    "#final dataframe\n",
    "rel_freq_dens = 0\n",
    "for i in range(len(dt_count['count'])):\n",
    "    rel_freq_dens = freq / h\n",
    "dt_count['rel_freq_dens'] = rel_freq_dens\n",
    "dt_count"
   ]
  },
  {
   "cell_type": "code",
   "execution_count": 67,
   "id": "a8096b31",
   "metadata": {},
   "outputs": [
    {
     "data": {
      "text/plain": [
       "[<matplotlib.lines.Line2D at 0x27b1cd9abf0>]"
      ]
     },
     "execution_count": 67,
     "metadata": {},
     "output_type": "execute_result"
    },
    {
     "data": {
      "image/png": "[encoded data removed]",
      "text/plain": [
       "<Figure size 640x480 with 1 Axes>"
      ]
     },
     "metadata": {},
     "output_type": "display_data"
    }
   ],
   "source": [
    "#Кумулята\n",
    "data = dt_count['centers']\n",
    "# sort the data in ascending order\n",
    "x = np.sort(data)\n",
    "# get the cdf values of y\n",
    "y = np.arange(len(dt_count['count'])) / float(len(dt_count['count']))\n",
    "# plotting\n",
    "plt.xlabel('x-axis')\n",
    "plt.ylabel('y-axis')\n",
    "  \n",
    "plt.title('CDF using sorting the data')\n",
    "  \n",
    "plt.plot(x, y, marker='o')"
   ]
  }
 ],
 "metadata": {
  "kernelspec": {
   "display_name": "Python 3 (ipykernel)",
   "language": "python",
   "name": "python3"
  },
  "language_info": {
   "codemirror_mode": {
    "name": "ipython",
    "version": 3
   },
   "file_extension": ".py",
   "mimetype": "text/x-python",
   "name": "python",
   "nbconvert_exporter": "python",
   "pygments_lexer": "ipython3",
   "version": "3.10.10"
  }
 },
 "nbformat": 4,
 "nbformat_minor": 5
}
